{
  "nbformat": 4,
  "nbformat_minor": 0,
  "metadata": {
    "colab": {
      "provenance": []
    },
    "kernelspec": {
      "name": "python3",
      "display_name": "Python 3"
    },
    "language_info": {
      "name": "python"
    }
  },
  "cells": [
    {
      "cell_type": "code",
      "execution_count": null,
      "metadata": {
        "id": "8Gggsb7HwzMb"
      },
      "outputs": [],
      "source": [
        "import pandas as pd\n",
        "from sklearn.metrics.pairwise import cosine_similarity\n",
        "from sklearn.model_selection import train_test_split\n"
      ]
    },
    {
      "cell_type": "code",
      "source": [
        "ratings = pd.read_csv('movies.csv')\n",
        "movie_titles = pd.read_csv('movies.csv',usecols=['title'])"
      ],
      "metadata": {
        "id": "ZTY0QM9axYtf"
      },
      "execution_count": null,
      "outputs": []
    },
    {
      "cell_type": "code",
      "source": [
        "user_matrix=ratings.pivot_table(index='userId', columns='movieId', values='rating')"
      ],
      "metadata": {
        "id": "FKomitXaxeBj"
      },
      "execution_count": 20,
      "outputs": []
    },
    {
      "cell_type": "code",
      "source": [
        "print(user_matrix)"
      ],
      "metadata": {
        "id": "3YcrZlS0VHv7",
        "outputId": "c63600f9-cff3-42c0-ce20-8b6114a11d20",
        "colab": {
          "base_uri": "https://localhost:8080/"
        }
      },
      "execution_count": 21,
      "outputs": [
        {
          "output_type": "stream",
          "name": "stdout",
          "text": [
            "movieId  1.0      2.0      3.0      4.0      5.0      6.0      7.0      \\\n",
            "userId                                                                   \n",
            "1.0          4.0      NaN      NaN      NaN      NaN      NaN      NaN   \n",
            "2.0          NaN      4.0      NaN      NaN      NaN      NaN      NaN   \n",
            "3.0          NaN      NaN      4.0      NaN      NaN      NaN      NaN   \n",
            "4.0          NaN      NaN      NaN      5.0      NaN      NaN      NaN   \n",
            "5.0          NaN      NaN      NaN      NaN      5.0      NaN      NaN   \n",
            "...          ...      ...      ...      ...      ...      ...      ...   \n",
            "7995.0       NaN      NaN      NaN      NaN      NaN      NaN      NaN   \n",
            "7996.0       NaN      NaN      NaN      NaN      NaN      NaN      NaN   \n",
            "7997.0       NaN      NaN      NaN      NaN      NaN      NaN      NaN   \n",
            "7998.0       NaN      NaN      NaN      NaN      NaN      NaN      NaN   \n",
            "7999.0       NaN      NaN      NaN      NaN      NaN      NaN      NaN   \n",
            "\n",
            "movieId  8.0      9.0      10.0     ...  96829.0  96832.0  96861.0  96917.0  \\\n",
            "userId                              ...                                       \n",
            "1.0          NaN      NaN      NaN  ...      NaN      NaN      NaN      NaN   \n",
            "2.0          NaN      NaN      NaN  ...      NaN      NaN      NaN      NaN   \n",
            "3.0          NaN      NaN      NaN  ...      NaN      NaN      NaN      NaN   \n",
            "4.0          NaN      NaN      NaN  ...      NaN      NaN      NaN      NaN   \n",
            "5.0          NaN      NaN      NaN  ...      NaN      NaN      NaN      NaN   \n",
            "...          ...      ...      ...  ...      ...      ...      ...      ...   \n",
            "7995.0       NaN      NaN      NaN  ...      NaN      NaN      NaN      NaN   \n",
            "7996.0       NaN      NaN      NaN  ...      NaN      NaN      NaN      NaN   \n",
            "7997.0       NaN      NaN      NaN  ...      NaN      NaN      NaN      NaN   \n",
            "7998.0       NaN      NaN      NaN  ...      NaN      NaN      NaN      NaN   \n",
            "7999.0       NaN      NaN      NaN  ...      NaN      NaN      NaN      NaN   \n",
            "\n",
            "movieId  96935.0  96945.0  96964.0  96975.0  97024.0  97168.0  \n",
            "userId                                                         \n",
            "1.0          NaN      NaN      NaN      NaN      NaN      NaN  \n",
            "2.0          NaN      NaN      NaN      NaN      NaN      NaN  \n",
            "3.0          NaN      NaN      NaN      NaN      NaN      NaN  \n",
            "4.0          NaN      NaN      NaN      NaN      NaN      NaN  \n",
            "5.0          NaN      NaN      NaN      NaN      NaN      NaN  \n",
            "...          ...      ...      ...      ...      ...      ...  \n",
            "7995.0       NaN      4.0      NaN      NaN      NaN      NaN  \n",
            "7996.0       NaN      NaN      4.0      NaN      NaN      NaN  \n",
            "7997.0       NaN      NaN      NaN      4.0      NaN      NaN  \n",
            "7998.0       NaN      NaN      NaN      NaN      3.0      NaN  \n",
            "7999.0       NaN      NaN      NaN      NaN      NaN      4.0  \n",
            "\n",
            "[7999 rows x 7999 columns]\n"
          ]
        }
      ]
    },
    {
      "cell_type": "code",
      "source": [
        "user_matrix.fillna(0, inplace=True)"
      ],
      "metadata": {
        "id": "erOW8UST5_0m"
      },
      "execution_count": 22,
      "outputs": []
    },
    {
      "cell_type": "code",
      "source": [
        "print(user_matrix)"
      ],
      "metadata": {
        "id": "Jaq510SBVWPy",
        "outputId": "175548e6-4fce-4b05-bb61-32dfe4c87d13",
        "colab": {
          "base_uri": "https://localhost:8080/"
        }
      },
      "execution_count": 23,
      "outputs": [
        {
          "output_type": "stream",
          "name": "stdout",
          "text": [
            "movieId  1.0      2.0      3.0      4.0      5.0      6.0      7.0      \\\n",
            "userId                                                                   \n",
            "1.0          4.0      0.0      0.0      0.0      0.0      0.0      0.0   \n",
            "2.0          0.0      4.0      0.0      0.0      0.0      0.0      0.0   \n",
            "3.0          0.0      0.0      4.0      0.0      0.0      0.0      0.0   \n",
            "4.0          0.0      0.0      0.0      5.0      0.0      0.0      0.0   \n",
            "5.0          0.0      0.0      0.0      0.0      5.0      0.0      0.0   \n",
            "...          ...      ...      ...      ...      ...      ...      ...   \n",
            "7995.0       0.0      0.0      0.0      0.0      0.0      0.0      0.0   \n",
            "7996.0       0.0      0.0      0.0      0.0      0.0      0.0      0.0   \n",
            "7997.0       0.0      0.0      0.0      0.0      0.0      0.0      0.0   \n",
            "7998.0       0.0      0.0      0.0      0.0      0.0      0.0      0.0   \n",
            "7999.0       0.0      0.0      0.0      0.0      0.0      0.0      0.0   \n",
            "\n",
            "movieId  8.0      9.0      10.0     ...  96829.0  96832.0  96861.0  96917.0  \\\n",
            "userId                              ...                                       \n",
            "1.0          0.0      0.0      0.0  ...      0.0      0.0      0.0      0.0   \n",
            "2.0          0.0      0.0      0.0  ...      0.0      0.0      0.0      0.0   \n",
            "3.0          0.0      0.0      0.0  ...      0.0      0.0      0.0      0.0   \n",
            "4.0          0.0      0.0      0.0  ...      0.0      0.0      0.0      0.0   \n",
            "5.0          0.0      0.0      0.0  ...      0.0      0.0      0.0      0.0   \n",
            "...          ...      ...      ...  ...      ...      ...      ...      ...   \n",
            "7995.0       0.0      0.0      0.0  ...      0.0      0.0      0.0      0.0   \n",
            "7996.0       0.0      0.0      0.0  ...      0.0      0.0      0.0      0.0   \n",
            "7997.0       0.0      0.0      0.0  ...      0.0      0.0      0.0      0.0   \n",
            "7998.0       0.0      0.0      0.0  ...      0.0      0.0      0.0      0.0   \n",
            "7999.0       0.0      0.0      0.0  ...      0.0      0.0      0.0      0.0   \n",
            "\n",
            "movieId  96935.0  96945.0  96964.0  96975.0  97024.0  97168.0  \n",
            "userId                                                         \n",
            "1.0          0.0      0.0      0.0      0.0      0.0      0.0  \n",
            "2.0          0.0      0.0      0.0      0.0      0.0      0.0  \n",
            "3.0          0.0      0.0      0.0      0.0      0.0      0.0  \n",
            "4.0          0.0      0.0      0.0      0.0      0.0      0.0  \n",
            "5.0          0.0      0.0      0.0      0.0      0.0      0.0  \n",
            "...          ...      ...      ...      ...      ...      ...  \n",
            "7995.0       0.0      4.0      0.0      0.0      0.0      0.0  \n",
            "7996.0       0.0      0.0      4.0      0.0      0.0      0.0  \n",
            "7997.0       0.0      0.0      0.0      4.0      0.0      0.0  \n",
            "7998.0       0.0      0.0      0.0      0.0      3.0      0.0  \n",
            "7999.0       0.0      0.0      0.0      0.0      0.0      4.0  \n",
            "\n",
            "[7999 rows x 7999 columns]\n"
          ]
        }
      ]
    },
    {
      "cell_type": "code",
      "source": [
        "user_similarity = cosine_similarity(user_matrix)\n",
        "user_similarity_df = pd.DataFrame(user_similarity, index=user_matrix.index, columns=user_matrix.index)"
      ],
      "metadata": {
        "id": "hL_aTHIg6eDK"
      },
      "execution_count": 28,
      "outputs": []
    },
    {
      "cell_type": "code",
      "source": [
        "print(user_similarity)\n",
        "print(user_similarity_df)"
      ],
      "metadata": {
        "id": "_LWJ7Nd6X3pq",
        "outputId": "b4d645f4-a48e-4ec4-828b-bfe0df4f2f30",
        "colab": {
          "base_uri": "https://localhost:8080/"
        }
      },
      "execution_count": 30,
      "outputs": [
        {
          "output_type": "stream",
          "name": "stdout",
          "text": [
            "[[1. 0. 0. ... 0. 0. 0.]\n",
            " [0. 1. 0. ... 0. 0. 0.]\n",
            " [0. 0. 1. ... 0. 0. 0.]\n",
            " ...\n",
            " [0. 0. 0. ... 1. 0. 0.]\n",
            " [0. 0. 0. ... 0. 1. 0.]\n",
            " [0. 0. 0. ... 0. 0. 1.]]\n",
            "userId  1.0     2.0     3.0     4.0     5.0     6.0     7.0     8.0     \\\n",
            "userId                                                                   \n",
            "1.0        1.0     0.0     0.0     0.0     0.0     0.0     0.0     0.0   \n",
            "2.0        0.0     1.0     0.0     0.0     0.0     0.0     0.0     0.0   \n",
            "3.0        0.0     0.0     1.0     0.0     0.0     0.0     0.0     0.0   \n",
            "4.0        0.0     0.0     0.0     1.0     0.0     0.0     0.0     0.0   \n",
            "5.0        0.0     0.0     0.0     0.0     1.0     0.0     0.0     0.0   \n",
            "...        ...     ...     ...     ...     ...     ...     ...     ...   \n",
            "7995.0     0.0     0.0     0.0     0.0     0.0     0.0     0.0     0.0   \n",
            "7996.0     0.0     0.0     0.0     0.0     0.0     0.0     0.0     0.0   \n",
            "7997.0     0.0     0.0     0.0     0.0     0.0     0.0     0.0     0.0   \n",
            "7998.0     0.0     0.0     0.0     0.0     0.0     0.0     0.0     0.0   \n",
            "7999.0     0.0     0.0     0.0     0.0     0.0     0.0     0.0     0.0   \n",
            "\n",
            "userId  9.0     10.0    ...  7990.0  7991.0  7992.0  7993.0  7994.0  7995.0  \\\n",
            "userId                  ...                                                   \n",
            "1.0        0.0     0.0  ...     0.0     0.0     0.0     0.0     0.0     0.0   \n",
            "2.0        0.0     0.0  ...     0.0     0.0     0.0     0.0     0.0     0.0   \n",
            "3.0        0.0     0.0  ...     0.0     0.0     0.0     0.0     0.0     0.0   \n",
            "4.0        0.0     0.0  ...     0.0     0.0     0.0     0.0     0.0     0.0   \n",
            "5.0        0.0     0.0  ...     0.0     0.0     0.0     0.0     0.0     0.0   \n",
            "...        ...     ...  ...     ...     ...     ...     ...     ...     ...   \n",
            "7995.0     0.0     0.0  ...     0.0     0.0     0.0     0.0     0.0     1.0   \n",
            "7996.0     0.0     0.0  ...     0.0     0.0     0.0     0.0     0.0     0.0   \n",
            "7997.0     0.0     0.0  ...     0.0     0.0     0.0     0.0     0.0     0.0   \n",
            "7998.0     0.0     0.0  ...     0.0     0.0     0.0     0.0     0.0     0.0   \n",
            "7999.0     0.0     0.0  ...     0.0     0.0     0.0     0.0     0.0     0.0   \n",
            "\n",
            "userId  7996.0  7997.0  7998.0  7999.0  \n",
            "userId                                  \n",
            "1.0        0.0     0.0     0.0     0.0  \n",
            "2.0        0.0     0.0     0.0     0.0  \n",
            "3.0        0.0     0.0     0.0     0.0  \n",
            "4.0        0.0     0.0     0.0     0.0  \n",
            "5.0        0.0     0.0     0.0     0.0  \n",
            "...        ...     ...     ...     ...  \n",
            "7995.0     0.0     0.0     0.0     0.0  \n",
            "7996.0     1.0     0.0     0.0     0.0  \n",
            "7997.0     0.0     1.0     0.0     0.0  \n",
            "7998.0     0.0     0.0     1.0     0.0  \n",
            "7999.0     0.0     0.0     0.0     1.0  \n",
            "\n",
            "[7999 rows x 7999 columns]\n"
          ]
        }
      ]
    },
    {
      "cell_type": "code",
      "source": [
        "def recommend_movies(user_id, num_recommendations=5):\n",
        "    similar_users = user_similarity_df[user_id].sort_values(ascending=False)\n",
        "    user_ratings = user_matrix.loc[user_id]\n",
        "    weighted_sum = 0\n",
        "    similarity_sum = 0\n",
        "    movie_scores = pd.Series(index=user_matrix.columns, dtype='float64')\n",
        "\n",
        "    for similar_user, similarity in similar_users.items():\n",
        "        if similar_user == user_id:\n",
        "            continue\n",
        "        similar_user_ratings = user_matrix.loc[similar_user]\n",
        "\n",
        "        weighted_sum += similarity * similar_user_ratings\n",
        "        similarity_sum += similarity\n",
        "\n",
        "    movie_scores = weighted_sum / similarity_sum\n",
        "    movie_scores = movie_scores.drop(user_ratings[user_ratings > 0].index)\n",
        "\n",
        "    return movie_scores.sort_values(ascending=False).head(num_recommendations)\n",
        "\n"
      ],
      "metadata": {
        "id": "ES0wujOg-8IO"
      },
      "execution_count": 26,
      "outputs": []
    },
    {
      "cell_type": "code",
      "source": [
        "print(recommend_movies(1))"
      ],
      "metadata": {
        "id": "gmouaNxoXhGb",
        "outputId": "bf9e89d9-3e7e-48ba-e320-b006ecc8ac23",
        "colab": {
          "base_uri": "https://localhost:8080/"
        }
      },
      "execution_count": 27,
      "outputs": [
        {
          "output_type": "stream",
          "name": "stdout",
          "text": [
            "movieId\n",
            "2.0   NaN\n",
            "3.0   NaN\n",
            "4.0   NaN\n",
            "5.0   NaN\n",
            "6.0   NaN\n",
            "Name: 5329.0, dtype: float64\n"
          ]
        }
      ]
    }
  ]
}